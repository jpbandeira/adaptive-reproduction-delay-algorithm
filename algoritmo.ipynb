{
 "cells": [
  {
   "cell_type": "code",
   "execution_count": 1,
   "id": "oriented-force",
   "metadata": {},
   "outputs": [],
   "source": [
    "import pandas as pd\n",
    "from math import ceil"
   ]
  },
  {
   "cell_type": "code",
   "execution_count": 2,
   "id": "vulnerable-option",
   "metadata": {},
   "outputs": [],
   "source": [
    "data = pd.read_csv(\"traces.csv\",sep = \";\")"
   ]
  },
  {
   "cell_type": "code",
   "execution_count": 3,
   "id": "increasing-replica",
   "metadata": {},
   "outputs": [],
   "source": [
    "# Constants\n",
    "U = 0.001998\n",
    "U2 = (1 - U)\n",
    "\n",
    "# Variables\n",
    "lastLostEstimated = 1376\n",
    "lastEstimateVariate = 0.00\n",
    "lastType = '!'\n",
    "countLosted = 0\n",
    "countDontLosted = 0"
   ]
  },
  {
   "cell_type": "code",
   "execution_count": 4,
   "id": "unique-matter",
   "metadata": {},
   "outputs": [],
   "source": [
    "for idx, list_traces in data.iterrows():\n",
    "    if list_traces['type'] == 'D':\n",
    "        realLost = list_traces['receiver_timestamp'] - list_traces['sender_timestamp']        \n",
    "\n",
    "        lostEstimated = ((U2 * lastLostEstimated) + (U * realLost))    \n",
    "        lostEstimated = round(lostEstimated, 6)\n",
    "        lastLostEstimated = lostEstimated    \n",
    "\n",
    "        variate = abs(realLost - lostEstimated)\n",
    "        variate = round(variate, 6)\n",
    "        '''\n",
    "        print(list_traces['id'])\n",
    "        print(\"realLost: \", realLost)\n",
    "        print(\"lostEstimated: \", lostEstimated)\n",
    "        print(\"variate: \", variate)\n",
    "        '''\n",
    "        estimateVariate = ((U2 * lastEstimateVariate) + (U * variate))    \n",
    "        estimateVariate = round(estimateVariate, 6)\n",
    "        #print(\"estimateVariate: \", estimateVariate)        \n",
    "\n",
    "        lastEstimateVariate = estimateVariate\n",
    "  \n",
    "        if lastType == '!':\n",
    "            lastType = 'D'\n",
    "            pi = (list_traces['sender_timestamp'] + lostEstimated + (4 * estimateVariate))\n",
    "            pi = round(pi, 0)\n",
    "            lastPi = pi\n",
    "            #print(\"pi\", lastPi)\n",
    "        else:\n",
    "            pi = lastPi + 160\n",
    "            pi = round(pi, 0)\n",
    "            lastPi = pi\n",
    "            #print(\"pi\", lastPi)\n",
    "\n",
    "        \n",
    "        if lastPi < list_traces['receiver_timestamp']:\n",
    "            countLosted = countLosted + 1;\n",
    "            losted = 1\n",
    "           # print(\"losted: \", losted)\n",
    "        else:            \n",
    "            countDontLosted = countDontLosted + 1;\n",
    "            losted = 0\n",
    "            #print(\"OK: \", losted)\n",
    "        \n",
    "        #print(\"\")\n",
    "\n",
    "    else:        \n",
    "        lastType = '!'\n",
    "        #print(list_traces['id'])\n",
    "        #print(\"End of blast!\")\n",
    "        #print(\"\")\n",
    "        continue"
   ]
  },
  {
   "cell_type": "code",
   "execution_count": 11,
   "id": "conditional-improvement",
   "metadata": {},
   "outputs": [
    {
     "name": "stdout",
     "output_type": "stream",
     "text": [
      "Count OK:  35063\n",
      "Count LOSTED:  2577\n",
      "Total:  37640\n",
      "Lost packet rate:  6.85\n"
     ]
    }
   ],
   "source": [
    "print(\"Count OK: \", countDontLosted)\n",
    "print(\"Count LOSTED: \", countLosted)\n",
    "total = countDontLosted + countLosted\n",
    "print(\"Total: \", total)\n",
    "lostPeckRate = countLosted / total\n",
    "print(\"Lost packet rate: \", round(lostPeckRate * 100, 2))"
   ]
  },
  {
   "cell_type": "code",
   "execution_count": null,
   "id": "parliamentary-allah",
   "metadata": {},
   "outputs": [],
   "source": []
  }
 ],
 "metadata": {
  "kernelspec": {
   "display_name": "Python 3",
   "language": "python",
   "name": "python3"
  },
  "language_info": {
   "codemirror_mode": {
    "name": "ipython",
    "version": 3
   },
   "file_extension": ".py",
   "mimetype": "text/x-python",
   "name": "python",
   "nbconvert_exporter": "python",
   "pygments_lexer": "ipython3",
   "version": "3.7.8"
  }
 },
 "nbformat": 4,
 "nbformat_minor": 5
}
