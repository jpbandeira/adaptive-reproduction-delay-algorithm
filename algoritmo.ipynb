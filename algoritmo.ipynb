{
 "cells": [
  {
   "cell_type": "code",
   "execution_count": 1,
   "id": "short-breakdown",
   "metadata": {},
   "outputs": [],
   "source": [
    "#Functions with descriptions in portuguese for algorithm and results. Implementation starts in step 2\n",
    "\n",
    "def algoritgmDescription():\n",
    "    print(\"\")\n",
    "    print(\"Cada pacote gerado no tracer contém um tempo de envio e um tempo de recebimento. A partir desses dois valores\" +\n",
    "         \" são feitos calculos para gerar a perda real e estimada e a variação real e estimada, para que de acordo com os \" +\n",
    "         \"resultados seja gerado o tempo em que o pacote será reproduzido, a fim de prever se o mesmo será perdido ou não, onde um pacote é dado como perdido \" +\n",
    "          \"quando o seu tempo de reprodução é maior que o tempo de recebimento do pacote.\" +\n",
    "         \" O objetivo do algoritmo é reduzir o atraso na reprodução de pacotes ajustando os atrasos de reprodução adaptativamente.\")\n",
    "    \n",
    "    print(\"\")\n",
    "    print(\"Segue abaixo a implementação do algoritimo (Atraso por reprodução adaptativa) contendo as regras descritas de acordo com o livro [Kurose - Ross - 6ª edição]\")\n",
    "    print(\"\")\n",
    "\n",
    "def rateDescription(rate):\n",
    "    \n",
    "    conclusion = \"\"\n",
    "    if rate < 15.00:\n",
    "        conclusion = \"Sendo assim hábil de realizar a técnica de ocutação de erro!\"\n",
    "    else:\n",
    "        conclusion = \"Não sendo hábil de realizar a técnica de ocutação de erro!\"\n",
    "    \n",
    "    print(\"\")\n",
    "    print(\"A técnica utilizada para ocutação de erro, descrita no livro [Kurose - Ross - 6ª edição],\",\n",
    "      \"faz uma recuperação dos pacotes perdidos baseando-se no receptor, substituindo por um pacote semelhante,\",\n",
    "     \"necessitando alta semelhança entre si. O autor diz que essa técnica é eficiente para taxas de perda baixas, menores que 15%.\")\n",
    "    print(\"\")\n",
    "    print(\"Visualizando a taxa de perda de pacotes, analisando os traces gerados, temos um valor de \" + str(rate) + \"%. \" +\n",
    "     conclusion)\n",
    "    print(\"\")"
   ]
  },
  {
   "cell_type": "code",
   "execution_count": 2,
   "id": "veterinary-gauge",
   "metadata": {},
   "outputs": [],
   "source": [
    "import pandas as pd"
   ]
  },
  {
   "cell_type": "code",
   "execution_count": 3,
   "id": "average-prison",
   "metadata": {},
   "outputs": [],
   "source": [
    "data = pd.read_csv(\"traces.csv\",sep = \";\")"
   ]
  },
  {
   "cell_type": "code",
   "execution_count": 4,
   "id": "cathedral-apparatus",
   "metadata": {},
   "outputs": [],
   "source": [
    "# Constants\n",
    "U = 0.001998\n",
    "U2 = (1 - U)\n",
    "K = 4\n",
    "\n",
    "# Variables\n",
    "lastLostEstimated = 1376\n",
    "lastEstimateVariate = 0.00\n",
    "lastType = '!'\n",
    "countLosted = 0\n",
    "countDontLosted = 0\n",
    "\n",
    "# Arrays\n",
    "receiver_times = []\n",
    "reproduction_time = []\n",
    "status = []"
   ]
  },
  {
   "cell_type": "code",
   "execution_count": 5,
   "id": "civilian-volunteer",
   "metadata": {},
   "outputs": [
    {
     "name": "stdout",
     "output_type": "stream",
     "text": [
      "\n",
      "Cada pacote gerado no tracer contém um tempo de envio e um tempo de recebimento. A partir desses dois valores são feitos calculos para gerar a perda real e estimada e a variação real e estimada, para que de acordo com os resultados seja gerado o tempo em que o pacote será reproduzido, a fim de prever se o mesmo será perdido ou não, onde um pacote é dado como perdido quando o seu tempo de reprodução é maior que o tempo de recebimento do pacote. O objetivo do algoritmo é reduzir o atraso na reprodução de pacotes ajustando os atrasos de reprodução adaptativamente.\n",
      "\n",
      "Segue abaixo a implementação do algoritimo (Atraso por reprodução adaptativa) contendo as regras descritas de acordo com o livro [Kurose - Ross - 6ª edição]\n",
      "\n"
     ]
    }
   ],
   "source": [
    "algoritgmDescription()"
   ]
  },
  {
   "cell_type": "code",
   "execution_count": 6,
   "id": "gross-powder",
   "metadata": {},
   "outputs": [],
   "source": [
    "for idx, list_traces in data.iterrows():\n",
    "    if list_traces['type'] == 'D':\n",
    "        \n",
    "        senderTimestapm = list_traces['sender_timestamp']\n",
    "        receiverTimestamp = list_traces['receiver_timestamp']          \n",
    "        \n",
    "        realLost = receiverTimestamp - senderTimestapm        \n",
    "\n",
    "        lostEstimated = ((U2 * lastLostEstimated) + (U * realLost))    \n",
    "        lostEstimated = round(lostEstimated, 6)\n",
    "        lastLostEstimated = lostEstimated    \n",
    "\n",
    "        variate = abs(realLost - lostEstimated)\n",
    "        variate = round(variate, 6)\n",
    "        \n",
    "        estimateVariate = ((U2 * lastEstimateVariate) + (U * variate))    \n",
    "        estimateVariate = round(estimateVariate, 6)\n",
    "        lastEstimateVariate = estimateVariate\n",
    "  \n",
    "        if lastType == '!':\n",
    "            lastType = 'D'\n",
    "            pi = (senderTimestapm + lostEstimated + (K * estimateVariate))\n",
    "            pi = round(pi, 0)\n",
    "            lastPi = pi\n",
    "        else:\n",
    "            pi = lastPi + 160\n",
    "            pi = round(pi, 0)\n",
    "            lastPi = pi\n",
    "        if lastPi < receiverTimestamp:\n",
    "            countLosted = countLosted + 1;                        \n",
    "            losted = 1\n",
    "            \n",
    "            receiver_times.append(receiverTimestamp)\n",
    "            reproduction_time.append(lastPi)\n",
    "            status.append('LOSTED')\n",
    "        else:            \n",
    "            countDontLosted = countDontLosted + 1;\n",
    "            losted = 0        \n",
    "    else:        \n",
    "        lastType = '!'\n",
    "        continue"
   ]
  },
  {
   "cell_type": "code",
   "execution_count": 7,
   "id": "korean-sunglasses",
   "metadata": {},
   "outputs": [
    {
     "name": "stdout",
     "output_type": "stream",
     "text": [
      "\n",
      "Pacotes Ok:  35063\n",
      "Pacotes Perdidos:  2577\n",
      "Total:  37640\n",
      "\n"
     ]
    }
   ],
   "source": [
    "print(\"\")\n",
    "print(\"Pacotes Ok: \", countDontLosted)\n",
    "print(\"Pacotes Perdidos: \", countLosted)\n",
    "total = countDontLosted + countLosted\n",
    "print(\"Total: \", total)\n",
    "lostPacketRate = countLosted / total\n",
    "rate = round(lostPacketRate * 100, 2)\n",
    "print(\"\")"
   ]
  },
  {
   "cell_type": "code",
   "execution_count": 8,
   "id": "terminal-couple",
   "metadata": {},
   "outputs": [
    {
     "name": "stdout",
     "output_type": "stream",
     "text": [
      "\n",
      "A técnica utilizada para ocutação de erro, descrita no livro [Kurose - Ross - 6ª edição], faz uma recuperação dos pacotes perdidos baseando-se no receptor, substituindo por um pacote semelhante, necessitando alta semelhança entre si. O autor diz que essa técnica é eficiente para taxas de perda baixas, menores que 15%.\n",
      "\n",
      "Visualizando a taxa de perda de pacotes, analisando os traces gerados, temos um valor de 6.85%. Sendo assim hábil de realizar a técnica de ocutação de erro!\n",
      "\n"
     ]
    }
   ],
   "source": [
    "rateDescription(rate)"
   ]
  },
  {
   "cell_type": "code",
   "execution_count": 10,
   "id": "opposite-toyota",
   "metadata": {},
   "outputs": [],
   "source": [
    "#Generated csv file with results for lost packets.\n",
    "\n",
    "data = {\n",
    "    'receiver_time': receiver_times,\n",
    "    'reproduction_time': reproduction_time,\n",
    "    'status': status\n",
    "}\n",
    "\n",
    "results = pd.DataFrame(data)\n",
    "\n",
    "results.to_csv('results.csv')\n",
    "\n",
    "dataResults = pd.read_csv(\"results.csv\",sep = \";\")"
   ]
  }
 ],
 "metadata": {
  "kernelspec": {
   "display_name": "Python 3",
   "language": "python",
   "name": "python3"
  },
  "language_info": {
   "codemirror_mode": {
    "name": "ipython",
    "version": 3
   },
   "file_extension": ".py",
   "mimetype": "text/x-python",
   "name": "python",
   "nbconvert_exporter": "python",
   "pygments_lexer": "ipython3",
   "version": "3.7.8"
  }
 },
 "nbformat": 4,
 "nbformat_minor": 5
}
